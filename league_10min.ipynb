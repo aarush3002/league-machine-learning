{
 "cells": [
  {
   "cell_type": "code",
   "execution_count": 47,
   "metadata": {},
   "outputs": [
    {
     "name": "stdout",
     "output_type": "stream",
     "text": [
      "            blueWins  blueWardsPlaced  blueWardsDestroyed  blueFirstBlood  \\\n",
      "gameId                                                                      \n",
      "4519157822         0               28                   2               1   \n",
      "4523371949         0               12                   1               0   \n",
      "4521474530         0               15                   0               0   \n",
      "4524384067         0               43                   1               0   \n",
      "4436033771         0               75                   4               0   \n",
      "\n",
      "            blueKills  blueDeaths  blueAssists  blueEliteMonsters  \\\n",
      "gameId                                                              \n",
      "4519157822          9           6           11                  0   \n",
      "4523371949          5           5            5                  0   \n",
      "4521474530          7          11            4                  1   \n",
      "4524384067          4           5            5                  1   \n",
      "4436033771          6           6            6                  0   \n",
      "\n",
      "            blueDragons  blueHeralds  ...  redTowersDestroyed  redTotalGold  \\\n",
      "gameId                                ...                                     \n",
      "4519157822            0            0  ...                   0         16567   \n",
      "4523371949            0            0  ...                   1         17620   \n",
      "4521474530            1            0  ...                   0         17285   \n",
      "4524384067            0            1  ...                   0         16478   \n",
      "4436033771            0            0  ...                   0         17404   \n",
      "\n",
      "            redAvgLevel  redTotalExperience  redTotalMinionsKilled  \\\n",
      "gameId                                                               \n",
      "4519157822          6.8               17047                    197   \n",
      "4523371949          6.8               17438                    240   \n",
      "4521474530          6.8               17254                    203   \n",
      "4524384067          7.0               17961                    235   \n",
      "4436033771          7.0               18313                    225   \n",
      "\n",
      "            redTotalJungleMinionsKilled  redGoldDiff  redExperienceDiff  \\\n",
      "gameId                                                                    \n",
      "4519157822                           55         -643                  8   \n",
      "4523371949                           52         2908               1173   \n",
      "4521474530                           28         1172               1033   \n",
      "4524384067                           47         1321                  7   \n",
      "4436033771                           67         1004               -230   \n",
      "\n",
      "            redCSPerMin  redGoldPerMin  \n",
      "gameId                                  \n",
      "4519157822         19.7         1656.7  \n",
      "4523371949         24.0         1762.0  \n",
      "4521474530         20.3         1728.5  \n",
      "4524384067         23.5         1647.8  \n",
      "4436033771         22.5         1740.4  \n",
      "\n",
      "[5 rows x 39 columns]\n"
     ]
    }
   ],
   "source": [
    "import numpy as np\n",
    "import matplotlib.pyplot as plt\n",
    "import pandas as pd\n",
    "\n",
    "filepath = r'C:\\Users\\aarus\\Documents\\ML\\League Dataset\\high_diamond_ranked_10min.csv'\n",
    "df = pd.read_csv(filepath, index_col=\"gameId\")\n",
    "\n",
    "print(df.head())"
   ]
  },
  {
   "cell_type": "code",
   "execution_count": 50,
   "metadata": {},
   "outputs": [
    {
     "name": "stdout",
     "output_type": "stream",
     "text": [
      "['blueWins', 'redWardsPlaced', 'redWardsDestroyed', 'redFirstBlood', 'redKills', 'redDeaths', 'redAssists', 'redEliteMonsters', 'redDragons', 'redHeralds', 'redTowersDestroyed', 'redTotalGold', 'redAvgLevel', 'redTotalExperience', 'redTotalMinionsKilled', 'redTotalJungleMinionsKilled', 'redGoldDiff', 'redExperienceDiff', 'redCSPerMin', 'redGoldPerMin']\n",
      "            blueWardsPlaced  blueWardsDestroyed  blueFirstBlood  blueKills  \\\n",
      "gameId                                                                       \n",
      "4519157822               28                   2               1          9   \n",
      "4523371949               12                   1               0          5   \n",
      "4521474530               15                   0               0          7   \n",
      "4524384067               43                   1               0          4   \n",
      "4436033771               75                   4               0          6   \n",
      "...                     ...                 ...             ...        ...   \n",
      "4527873286               17                   2               1          7   \n",
      "4527797466               54                   0               0          6   \n",
      "4527713716               23                   1               0          6   \n",
      "4527628313               14                   4               1          2   \n",
      "4523772935               18                   0               1          6   \n",
      "\n",
      "            blueDeaths  blueAssists  blueEliteMonsters  blueDragons  \\\n",
      "gameId                                                                \n",
      "4519157822           6           11                  0            0   \n",
      "4523371949           5            5                  0            0   \n",
      "4521474530          11            4                  1            1   \n",
      "4524384067           5            5                  1            0   \n",
      "4436033771           6            6                  0            0   \n",
      "...                ...          ...                ...          ...   \n",
      "4527873286           4            5                  1            1   \n",
      "4527797466           4            8                  1            1   \n",
      "4527713716           7            5                  0            0   \n",
      "4527628313           3            3                  1            1   \n",
      "4523772935           6            5                  0            0   \n",
      "\n",
      "            blueHeralds  blueTowersDestroyed  blueTotalGold  blueAvgLevel  \\\n",
      "gameId                                                                      \n",
      "4519157822            0                    0          17210           6.6   \n",
      "4523371949            0                    0          14712           6.6   \n",
      "4521474530            0                    0          16113           6.4   \n",
      "4524384067            1                    0          15157           7.0   \n",
      "4436033771            0                    0          16400           7.0   \n",
      "...                 ...                  ...            ...           ...   \n",
      "4527873286            0                    0          17765           7.2   \n",
      "4527797466            0                    0          16238           7.2   \n",
      "4527713716            0                    0          15903           7.0   \n",
      "4527628313            0                    0          14459           6.6   \n",
      "4523772935            0                    0          16266           7.0   \n",
      "\n",
      "            blueTotalExperience  blueTotalMinionsKilled  \\\n",
      "gameId                                                    \n",
      "4519157822                17039                     195   \n",
      "4523371949                16265                     174   \n",
      "4521474530                16221                     186   \n",
      "4524384067                17954                     201   \n",
      "4436033771                18543                     210   \n",
      "...                         ...                     ...   \n",
      "4527873286                18967                     211   \n",
      "4527797466                19255                     233   \n",
      "4527713716                18032                     210   \n",
      "4527628313                17229                     224   \n",
      "4523772935                17321                     207   \n",
      "\n",
      "            blueTotalJungleMinionsKilled  blueGoldDiff  blueExperienceDiff  \\\n",
      "gameId                                                                       \n",
      "4519157822                            36           643                  -8   \n",
      "4523371949                            43         -2908               -1173   \n",
      "4521474530                            46         -1172               -1033   \n",
      "4524384067                            55         -1321                  -7   \n",
      "4436033771                            57         -1004                 230   \n",
      "...                                  ...           ...                 ...   \n",
      "4527873286                            69          2519                2469   \n",
      "4527797466                            48           782                 888   \n",
      "4527713716                            45         -2416               -1877   \n",
      "4527628313                            48          -839               -1085   \n",
      "4523772935                            44           927                 -58   \n",
      "\n",
      "            blueCSPerMin  blueGoldPerMin  \n",
      "gameId                                    \n",
      "4519157822          19.5          1721.0  \n",
      "4523371949          17.4          1471.2  \n",
      "4521474530          18.6          1611.3  \n",
      "4524384067          20.1          1515.7  \n",
      "4436033771          21.0          1640.0  \n",
      "...                  ...             ...  \n",
      "4527873286          21.1          1776.5  \n",
      "4527797466          23.3          1623.8  \n",
      "4527713716          21.0          1590.3  \n",
      "4527628313          22.4          1445.9  \n",
      "4523772935          20.7          1626.6  \n",
      "\n",
      "[9879 rows x 19 columns]\n",
      "gameId\n",
      "4519157822    0\n",
      "4523371949    0\n",
      "4521474530    0\n",
      "4524384067    0\n",
      "4436033771    0\n",
      "             ..\n",
      "4527873286    1\n",
      "4527797466    1\n",
      "4527713716    0\n",
      "4527628313    0\n",
      "4523772935    1\n",
      "Name: blueWins, Length: 9879, dtype: int64\n"
     ]
    }
   ],
   "source": [
    "cols = list(df.columns)\n",
    "drop_cols = [\"blueWins\"] + cols[20:]\n",
    "print(drop_cols)\n",
    "X = df.drop(drop_cols, axis=1)\n",
    "y = df[\"blueWins\"]\n",
    "print(X)\n",
    "print(y)"
   ]
  },
  {
   "cell_type": "code",
   "execution_count": 51,
   "metadata": {},
   "outputs": [],
   "source": [
    "from sklearn.model_selection import train_test_split\n",
    "X_train, X_test, y_train, y_test = train_test_split(X, y, test_size=0.20)"
   ]
  },
  {
   "cell_type": "code",
   "execution_count": 52,
   "metadata": {},
   "outputs": [],
   "source": [
    "from sklearn.preprocessing import StandardScaler\n",
    "scaler = StandardScaler()\n",
    "scaler.fit(X_train)\n",
    "\n",
    "X_train = scaler.transform(X_train)\n",
    "X_test = scaler.transform(X_test)"
   ]
  },
  {
   "cell_type": "code",
   "execution_count": 53,
   "metadata": {},
   "outputs": [
    {
     "data": {
      "text/plain": [
       "KNeighborsClassifier()"
      ]
     },
     "execution_count": 53,
     "metadata": {},
     "output_type": "execute_result"
    }
   ],
   "source": [
    "from sklearn.neighbors import KNeighborsClassifier\n",
    "classifier = KNeighborsClassifier(n_neighbors=5)\n",
    "classifier.fit(X_train, y_train)"
   ]
  },
  {
   "cell_type": "code",
   "execution_count": 54,
   "metadata": {},
   "outputs": [],
   "source": [
    "y_pred = classifier.predict(X_test)"
   ]
  },
  {
   "cell_type": "code",
   "execution_count": 55,
   "metadata": {},
   "outputs": [
    {
     "name": "stdout",
     "output_type": "stream",
     "text": [
      "[[686 319]\n",
      " [321 650]]\n",
      "              precision    recall  f1-score   support\n",
      "\n",
      "           0       0.68      0.68      0.68      1005\n",
      "           1       0.67      0.67      0.67       971\n",
      "\n",
      "    accuracy                           0.68      1976\n",
      "   macro avg       0.68      0.68      0.68      1976\n",
      "weighted avg       0.68      0.68      0.68      1976\n",
      "\n"
     ]
    }
   ],
   "source": [
    "from sklearn.metrics import classification_report, confusion_matrix\n",
    "print(confusion_matrix(y_test, y_pred))\n",
    "print(classification_report(y_test, y_pred))"
   ]
  },
  {
   "cell_type": "code",
   "execution_count": 24,
   "metadata": {},
   "outputs": [],
   "source": [
    "error = []\n",
    "\n",
    "# Calculating error for K values between 1 and 40\n",
    "for i in range(1, 40):\n",
    "    knn = KNeighborsClassifier(n_neighbors=i)\n",
    "    knn.fit(X_train, y_train)\n",
    "    pred_i = knn.predict(X_test)\n",
    "    error.append(np.mean(pred_i != y_test))"
   ]
  },
  {
   "cell_type": "code",
   "execution_count": 25,
   "metadata": {},
   "outputs": [
    {
     "data": {
      "text/plain": [
       "Text(0, 0.5, 'Mean Error')"
      ]
     },
     "execution_count": 25,
     "metadata": {},
     "output_type": "execute_result"
    },
    {
     "data": {
      "image/png": "[encoded data removed]",
      "text/plain": [
       "<Figure size 864x432 with 1 Axes>"
      ]
     },
     "metadata": {
      "needs_background": "light"
     },
     "output_type": "display_data"
    }
   ],
   "source": [
    "plt.figure(figsize=(12, 6))\n",
    "plt.plot(range(1, 40), error, color='red', linestyle='dashed', marker='o',\n",
    "         markerfacecolor='blue', markersize=10)\n",
    "plt.title('Error Rate K Value')\n",
    "plt.xlabel('K Value')\n",
    "plt.ylabel('Mean Error')"
   ]
  },
  {
   "cell_type": "code",
   "execution_count": 26,
   "metadata": {},
   "outputs": [],
   "source": [
    "%matplotlib inline"
   ]
  },
  {
   "cell_type": "code",
   "execution_count": 27,
   "metadata": {},
   "outputs": [
    {
     "data": {
      "text/plain": [
       "SVC(kernel='linear')"
      ]
     },
     "execution_count": 27,
     "metadata": {},
     "output_type": "execute_result"
    }
   ],
   "source": [
    "#Trying out the support vector machine\n",
    "from sklearn.svm import SVC\n",
    "svclassifier = SVC(kernel='linear')\n",
    "svclassifier.fit(X_train, y_train)"
   ]
  },
  {
   "cell_type": "code",
   "execution_count": 28,
   "metadata": {},
   "outputs": [],
   "source": [
    "y_pred = svclassifier.predict(X_test)"
   ]
  },
  {
   "cell_type": "code",
   "execution_count": 29,
   "metadata": {},
   "outputs": [
    {
     "name": "stdout",
     "output_type": "stream",
     "text": [
      "[[706 265]\n",
      " [275 730]]\n",
      "              precision    recall  f1-score   support\n",
      "\n",
      "           0       0.72      0.73      0.72       971\n",
      "           1       0.73      0.73      0.73      1005\n",
      "\n",
      "    accuracy                           0.73      1976\n",
      "   macro avg       0.73      0.73      0.73      1976\n",
      "weighted avg       0.73      0.73      0.73      1976\n",
      "\n"
     ]
    }
   ],
   "source": [
    "from sklearn.metrics import classification_report, confusion_matrix\n",
    "print(confusion_matrix(y_test,y_pred))\n",
    "print(classification_report(y_test,y_pred))"
   ]
  },
  {
   "cell_type": "code",
   "execution_count": 33,
   "metadata": {},
   "outputs": [
    {
     "data": {
      "text/plain": [
       "DecisionTreeClassifier()"
      ]
     },
     "execution_count": 33,
     "metadata": {},
     "output_type": "execute_result"
    }
   ],
   "source": [
    "#trying out decision tree classifier\n",
    "from sklearn.tree import DecisionTreeClassifier\n",
    "classifier = DecisionTreeClassifier()\n",
    "classifier.fit(X_train, y_train)"
   ]
  },
  {
   "cell_type": "code",
   "execution_count": 31,
   "metadata": {},
   "outputs": [],
   "source": [
    "y_pred = classifier.predict(X_test)"
   ]
  },
  {
   "cell_type": "code",
   "execution_count": 32,
   "metadata": {},
   "outputs": [
    {
     "name": "stdout",
     "output_type": "stream",
     "text": [
      "[[614 357]\n",
      " [371 634]]\n",
      "              precision    recall  f1-score   support\n",
      "\n",
      "           0       0.62      0.63      0.63       971\n",
      "           1       0.64      0.63      0.64      1005\n",
      "\n",
      "    accuracy                           0.63      1976\n",
      "   macro avg       0.63      0.63      0.63      1976\n",
      "weighted avg       0.63      0.63      0.63      1976\n",
      "\n"
     ]
    }
   ],
   "source": [
    "from sklearn.metrics import classification_report, confusion_matrix\n",
    "print(confusion_matrix(y_test, y_pred))\n",
    "print(classification_report(y_test, y_pred))"
   ]
  },
  {
   "cell_type": "code",
   "execution_count": 40,
   "metadata": {},
   "outputs": [],
   "source": [
    "from sklearn.ensemble import RandomForestClassifier\n",
    "\n",
    "regressor = RandomForestClassifier(n_estimators=20, random_state=0)\n",
    "regressor.fit(X_train, y_train)\n",
    "y_pred = regressor.predict(X_test)\n"
   ]
  },
  {
   "cell_type": "code",
   "execution_count": 41,
   "metadata": {},
   "outputs": [
    {
     "name": "stdout",
     "output_type": "stream",
     "text": [
      "[[721 250]\n",
      " [336 669]]\n",
      "              precision    recall  f1-score   support\n",
      "\n",
      "           0       0.68      0.74      0.71       971\n",
      "           1       0.73      0.67      0.70      1005\n",
      "\n",
      "    accuracy                           0.70      1976\n",
      "   macro avg       0.71      0.70      0.70      1976\n",
      "weighted avg       0.71      0.70      0.70      1976\n",
      "\n",
      "0.7034412955465587\n"
     ]
    }
   ],
   "source": [
    "from sklearn.metrics import classification_report, confusion_matrix, accuracy_score\n",
    "\n",
    "print(confusion_matrix(y_test,y_pred))\n",
    "print(classification_report(y_test,y_pred))\n",
    "print(accuracy_score(y_test, y_pred))"
   ]
  },
  {
   "cell_type": "code",
   "execution_count": 42,
   "metadata": {},
   "outputs": [
    {
     "data": {
      "text/plain": [
       "Text(0, 0.5, 'Mean Error')"
      ]
     },
     "execution_count": 42,
     "metadata": {},
     "output_type": "execute_result"
    },
    {
     "data": {
      "image/png": "[encoded data removed]",
      "text/plain": [
       "<Figure size 864x432 with 1 Axes>"
      ]
     },
     "metadata": {
      "needs_background": "light"
     },
     "output_type": "display_data"
    }
   ],
   "source": [
    "error = []\n",
    "\n",
    "# Calculating error for K values between 1 and 40\n",
    "for i in range(1, 40):\n",
    "    regressor = RandomForestClassifier(n_estimators=i, random_state=0)\n",
    "    regressor.fit(X_train, y_train)\n",
    "    pred_i = regressor.predict(X_test)\n",
    "    error.append(np.mean(pred_i != y_test))\n",
    "    \n",
    "plt.figure(figsize=(12, 6))\n",
    "plt.plot(range(1, 40), error, color='red', linestyle='dashed', marker='o',\n",
    "         markerfacecolor='blue', markersize=10)\n",
    "plt.title('Error Rate n estimators')\n",
    "plt.xlabel('n estimators')\n",
    "plt.ylabel('Mean Error')"
   ]
  },
  {
   "cell_type": "code",
   "execution_count": null,
   "metadata": {},
   "outputs": [],
   "source": []
  }
 ],
 "metadata": {
  "kernelspec": {
   "display_name": "Python 3",
   "language": "python",
   "name": "python3"
  },
  "language_info": {
   "codemirror_mode": {
    "name": "ipython",
    "version": 3
   },
   "file_extension": ".py",
   "mimetype": "text/x-python",
   "name": "python",
   "nbconvert_exporter": "python",
   "pygments_lexer": "ipython3",
   "version": "3.8.3"
  }
 },
 "nbformat": 4,
 "nbformat_minor": 4
}
